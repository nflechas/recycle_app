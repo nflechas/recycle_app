{
  "cells": [
    {
      "attachments": {},
      "cell_type": "markdown",
      "metadata": {},
      "source": [
        "This notebook was created in Google Colab to make use of its GPU offering."
      ]
    },
    {
      "attachments": {},
      "cell_type": "markdown",
      "metadata": {
        "id": "TptB6N9MzLFf"
      },
      "source": [
        "## 1. Set-up"
      ]
    },
    {
      "cell_type": "code",
      "execution_count": null,
      "metadata": {
        "colab": {
          "base_uri": "https://localhost:8080/"
        },
        "id": "oFwZAiA1sPqd",
        "outputId": "9391f47e-f6dd-46c8-e5eb-b0d343889e82"
      },
      "outputs": [
        {
          "name": "stdout",
          "output_type": "stream",
          "text": [
            "Mounted at /content/drive\n"
          ]
        }
      ],
      "source": [
        "from google.colab import drive\n",
        "\n",
        "drive.mount('/content/drive')"
      ]
    },
    {
      "cell_type": "code",
      "execution_count": null,
      "metadata": {
        "colab": {
          "base_uri": "https://localhost:8080/"
        },
        "id": "gy9-DN6fs-1I",
        "outputId": "0af2f349-c281-4b44-db64-6e2b3d8ef1c8"
      },
      "outputs": [
        {
          "name": "stdout",
          "output_type": "stream",
          "text": [
            "Cloning into 'yolov5'...\n",
            "remote: Enumerating objects: 15529, done.\u001b[K\n",
            "remote: Counting objects: 100% (136/136), done.\u001b[K\n",
            "remote: Compressing objects: 100% (93/93), done.\u001b[K\n",
            "remote: Total 15529 (delta 49), reused 118 (delta 43), pack-reused 15393\u001b[K\n",
            "Receiving objects: 100% (15529/15529), 14.59 MiB | 17.05 MiB/s, done.\n",
            "Resolving deltas: 100% (10573/10573), done.\n",
            "/content/yolov5\n",
            "HEAD is now at fbe67e4 Fix `OMP_NUM_THREADS=1` for macOS (#8624)\n"
          ]
        }
      ],
      "source": [
        "# clone YOLOv5 repository\n",
        "!git clone https://github.com/ultralytics/yolov5  # clone repo\n",
        "%cd yolov5\n",
        "!git reset --hard fbe67e465375231474a2ad80a4389efc77ecff99"
      ]
    },
    {
      "cell_type": "code",
      "execution_count": null,
      "metadata": {
        "colab": {
          "base_uri": "https://localhost:8080/"
        },
        "id": "VYZEXSXM5Fwe",
        "outputId": "6bf7fc5c-f284-46e3-e74b-90540f6e2856"
      },
      "outputs": [
        {
          "name": "stdout",
          "output_type": "stream",
          "text": [
            "\u001b[?25l     \u001b[90m━━━━━━━━━━━━━━━━━━━━━━━━━━━━━━━━━━━━━━━━\u001b[0m \u001b[32m0.0/1.6 MB\u001b[0m \u001b[31m?\u001b[0m eta \u001b[36m-:--:--\u001b[0m\r\u001b[2K     \u001b[91m━━━━━━━━━━━━━━━━━━━━━━━━━━━━━━━━━━━━━━━\u001b[0m\u001b[91m╸\u001b[0m \u001b[32m1.6/1.6 MB\u001b[0m \u001b[31m92.2 MB/s\u001b[0m eta \u001b[36m0:00:01\u001b[0m\r\u001b[2K     \u001b[90m━━━━━━━━━━━━━━━━━━━━━━━━━━━━━━━━━━━━━━━━\u001b[0m \u001b[32m1.6/1.6 MB\u001b[0m \u001b[31m42.2 MB/s\u001b[0m eta \u001b[36m0:00:00\u001b[0m\n",
            "\u001b[?25hSetup complete. Using torch 2.0.0+cu118 _CudaDeviceProperties(name='Tesla T4', major=7, minor=5, total_memory=15101MB, multi_processor_count=40)\n"
          ]
        }
      ],
      "source": [
        "# install dependencies as necessary\n",
        "!pip install -qr requirements.txt  # install dependencies (ignore errors)\n",
        "import torch\n",
        "\n",
        "from IPython.display import Image, clear_output  # to display images\n",
        "from utils.downloads import attempt_download  # to download models/datasets\n",
        "\n",
        "# clear_output()\n",
        "print('Setup complete. Using torch %s %s' % (torch.__version__, torch.cuda.get_device_properties(0) if torch.cuda.is_available() else 'CPU'))"
      ]
    },
    {
      "cell_type": "markdown",
      "metadata": {
        "id": "W8PvxZP9DbIM"
      },
      "source": [
        "Download data"
      ]
    },
    {
      "cell_type": "code",
      "execution_count": null,
      "metadata": {
        "colab": {
          "base_uri": "https://localhost:8080/",
          "height": 1000
        },
        "id": "AySV7K885MrB",
        "outputId": "cc52438e-7962-4277-ec38-7c686fcb31c8"
      },
      "outputs": [
        {
          "name": "stdout",
          "output_type": "stream",
          "text": [
            "Looking in indexes: https://pypi.org/simple, https://us-python.pkg.dev/colab-wheels/public/simple/\n",
            "Collecting roboflow\n",
            "  Downloading roboflow-1.0.5-py3-none-any.whl (56 kB)\n",
            "\u001b[2K     \u001b[90m━━━━━━━━━━━━━━━━━━━━━━━━━━━━━━━━━━━━━━━━\u001b[0m \u001b[32m56.2/56.2 kB\u001b[0m \u001b[31m8.3 MB/s\u001b[0m eta \u001b[36m0:00:00\u001b[0m\n",
            "\u001b[?25hRequirement already satisfied: matplotlib in /usr/local/lib/python3.9/dist-packages (from roboflow) (3.7.1)\n",
            "Requirement already satisfied: urllib3>=1.26.6 in /usr/local/lib/python3.9/dist-packages (from roboflow) (1.26.15)\n",
            "Requirement already satisfied: python-dateutil in /usr/local/lib/python3.9/dist-packages (from roboflow) (2.8.2)\n",
            "Collecting wget\n",
            "  Downloading wget-3.2.zip (10 kB)\n",
            "  Preparing metadata (setup.py) ... \u001b[?25l\u001b[?25hdone\n",
            "Collecting cycler==0.10.0\n",
            "  Downloading cycler-0.10.0-py2.py3-none-any.whl (6.5 kB)\n",
            "Requirement already satisfied: requests in /usr/local/lib/python3.9/dist-packages (from roboflow) (2.27.1)\n",
            "Requirement already satisfied: certifi==2022.12.7 in /usr/local/lib/python3.9/dist-packages (from roboflow) (2022.12.7)\n",
            "Requirement already satisfied: PyYAML>=5.3.1 in /usr/local/lib/python3.9/dist-packages (from roboflow) (6.0)\n",
            "Requirement already satisfied: numpy>=1.18.5 in /usr/local/lib/python3.9/dist-packages (from roboflow) (1.22.4)\n",
            "Requirement already satisfied: six in /usr/local/lib/python3.9/dist-packages (from roboflow) (1.16.0)\n",
            "Collecting python-dotenv\n",
            "  Downloading python_dotenv-1.0.0-py3-none-any.whl (19 kB)\n",
            "Collecting pyparsing==2.4.7\n",
            "  Downloading pyparsing-2.4.7-py2.py3-none-any.whl (67 kB)\n",
            "\u001b[2K     \u001b[90m━━━━━━━━━━━━━━━━━━━━━━━━━━━━━━━━━━━━━━━━\u001b[0m \u001b[32m67.8/67.8 kB\u001b[0m \u001b[31m10.3 MB/s\u001b[0m eta \u001b[36m0:00:00\u001b[0m\n",
            "\u001b[?25hRequirement already satisfied: kiwisolver>=1.3.1 in /usr/local/lib/python3.9/dist-packages (from roboflow) (1.4.4)\n",
            "Collecting idna==2.10\n",
            "  Downloading idna-2.10-py2.py3-none-any.whl (58 kB)\n",
            "\u001b[2K     \u001b[90m━━━━━━━━━━━━━━━━━━━━━━━━━━━━━━━━━━━━━━━━\u001b[0m \u001b[32m58.8/58.8 kB\u001b[0m \u001b[31m7.1 MB/s\u001b[0m eta \u001b[36m0:00:00\u001b[0m\n",
            "\u001b[?25hRequirement already satisfied: chardet==4.0.0 in /usr/local/lib/python3.9/dist-packages (from roboflow) (4.0.0)\n",
            "Requirement already satisfied: Pillow>=7.1.2 in /usr/local/lib/python3.9/dist-packages (from roboflow) (8.4.0)\n",
            "Requirement already satisfied: tqdm>=4.41.0 in /usr/local/lib/python3.9/dist-packages (from roboflow) (4.65.0)\n",
            "Requirement already satisfied: opencv-python>=4.1.2 in /usr/local/lib/python3.9/dist-packages (from roboflow) (4.7.0.72)\n",
            "Collecting requests-toolbelt\n",
            "  Downloading requests_toolbelt-0.10.1-py2.py3-none-any.whl (54 kB)\n",
            "\u001b[2K     \u001b[90m━━━━━━━━━━━━━━━━━━━━━━━━━━━━━━━━━━━━━━━━\u001b[0m \u001b[32m54.5/54.5 kB\u001b[0m \u001b[31m7.8 MB/s\u001b[0m eta \u001b[36m0:00:00\u001b[0m\n",
            "\u001b[?25hRequirement already satisfied: contourpy>=1.0.1 in /usr/local/lib/python3.9/dist-packages (from matplotlib->roboflow) (1.0.7)\n",
            "Requirement already satisfied: packaging>=20.0 in /usr/local/lib/python3.9/dist-packages (from matplotlib->roboflow) (23.0)\n",
            "Requirement already satisfied: fonttools>=4.22.0 in /usr/local/lib/python3.9/dist-packages (from matplotlib->roboflow) (4.39.3)\n",
            "Requirement already satisfied: importlib-resources>=3.2.0 in /usr/local/lib/python3.9/dist-packages (from matplotlib->roboflow) (5.12.0)\n",
            "Requirement already satisfied: charset-normalizer~=2.0.0 in /usr/local/lib/python3.9/dist-packages (from requests->roboflow) (2.0.12)\n",
            "Requirement already satisfied: zipp>=3.1.0 in /usr/local/lib/python3.9/dist-packages (from importlib-resources>=3.2.0->matplotlib->roboflow) (3.15.0)\n",
            "Building wheels for collected packages: wget\n",
            "  Building wheel for wget (setup.py) ... \u001b[?25l\u001b[?25hdone\n",
            "  Created wheel for wget: filename=wget-3.2-py3-none-any.whl size=9676 sha256=91829f97983f9376a226b585d88ca8dd86044b9a847d20b4e662777ddf4afd5c\n",
            "  Stored in directory: /root/.cache/pip/wheels/04/5f/3e/46cc37c5d698415694d83f607f833f83f0149e49b3af9d0f38\n",
            "Successfully built wget\n",
            "Installing collected packages: wget, python-dotenv, pyparsing, idna, cycler, requests-toolbelt, roboflow\n",
            "  Attempting uninstall: pyparsing\n",
            "    Found existing installation: pyparsing 3.0.9\n",
            "    Uninstalling pyparsing-3.0.9:\n",
            "      Successfully uninstalled pyparsing-3.0.9\n",
            "  Attempting uninstall: idna\n",
            "    Found existing installation: idna 3.4\n",
            "    Uninstalling idna-3.4:\n",
            "      Successfully uninstalled idna-3.4\n",
            "  Attempting uninstall: cycler\n",
            "    Found existing installation: cycler 0.11.0\n",
            "    Uninstalling cycler-0.11.0:\n",
            "      Successfully uninstalled cycler-0.11.0\n",
            "Successfully installed cycler-0.10.0 idna-2.10 pyparsing-2.4.7 python-dotenv-1.0.0 requests-toolbelt-0.10.1 roboflow-1.0.5 wget-3.2\n"
          ]
        },
        {
          "data": {
            "application/vnd.colab-display-data+json": {
              "pip_warning": {
                "packages": [
                  "cycler",
                  "idna",
                  "pyparsing"
                ]
              }
            }
          },
          "metadata": {},
          "output_type": "display_data"
        },
        {
          "name": "stdout",
          "output_type": "stream",
          "text": [
            "loading Roboflow workspace...\n",
            "loading Roboflow project...\n",
            "Downloading Dataset Version Zip in GARBAGE-CLASSIFICATION-3-2 to yolov5pytorch: 98% [208478208 / 211235619] bytes"
          ]
        },
        {
          "name": "stderr",
          "output_type": "stream",
          "text": [
            "Extracting Dataset Version Zip to GARBAGE-CLASSIFICATION-3-2 in yolov5pytorch:: 100%|██████████| 20940/20940 [00:04<00:00, 5025.26it/s]\n"
          ]
        }
      ],
      "source": [
        "!pip install roboflow\n",
        "\n",
        "from roboflow import Roboflow\n",
        "rf = Roboflow(api_key=\"HzlJObrzSKD661yREDwe\")\n",
        "project = rf.workspace(\"material-identification\").project(\"garbage-classification-3\")\n",
        "dataset = project.version(2).download(\"yolov5\")"
      ]
    },
    {
      "cell_type": "code",
      "execution_count": null,
      "metadata": {
        "colab": {
          "base_uri": "https://localhost:8080/"
        },
        "id": "d7nL7OG7DjdE",
        "outputId": "2dafe468-0052-4d40-f652-23b7a2efaac1"
      },
      "outputs": [
        {
          "name": "stdout",
          "output_type": "stream",
          "text": [
            "names:\n",
            "- BIODEGRADABLE\n",
            "- CARDBOARD\n",
            "- GLASS\n",
            "- METAL\n",
            "- PAPER\n",
            "- PLASTIC\n",
            "nc: 6\n",
            "roboflow:\n",
            "  license: CC BY 4.0\n",
            "  project: garbage-classification-3\n",
            "  url: https://universe.roboflow.com/material-identification/garbage-classification-3/dataset/2\n",
            "  version: 2\n",
            "  workspace: material-identification\n",
            "test: ../test/images\n",
            "train: GARBAGE-CLASSIFICATION-3-2/train/images\n",
            "val: GARBAGE-CLASSIFICATION-3-2/valid/images\n"
          ]
        }
      ],
      "source": [
        "%cat {dataset.location}/data.yaml"
      ]
    },
    {
      "cell_type": "code",
      "execution_count": null,
      "metadata": {
        "id": "qFvFjjH8D_O1"
      },
      "outputs": [],
      "source": [
        "# define number of classes based on YAML\n",
        "import yaml\n",
        "with open(dataset.location + \"/data.yaml\", 'r') as stream:\n",
        "    num_classes = str(yaml.safe_load(stream)['nc'])"
      ]
    },
    {
      "cell_type": "code",
      "execution_count": null,
      "metadata": {
        "colab": {
          "base_uri": "https://localhost:8080/"
        },
        "id": "4-mmEo1kEH9n",
        "outputId": "7b78f396-fd90-42fc-d6ba-737462313045"
      },
      "outputs": [
        {
          "name": "stdout",
          "output_type": "stream",
          "text": [
            "# YOLOv5 🚀 by Ultralytics, GPL-3.0 license\n",
            "\n",
            "# Parameters\n",
            "nc: 80  # number of classes\n",
            "depth_multiple: 0.33  # model depth multiple\n",
            "width_multiple: 0.50  # layer channel multiple\n",
            "anchors:\n",
            "  - [10,13, 16,30, 33,23]  # P3/8\n",
            "  - [30,61, 62,45, 59,119]  # P4/16\n",
            "  - [116,90, 156,198, 373,326]  # P5/32\n",
            "\n",
            "# YOLOv5 v6.0 backbone\n",
            "backbone:\n",
            "  # [from, number, module, args]\n",
            "  [[-1, 1, Conv, [64, 6, 2, 2]],  # 0-P1/2\n",
            "   [-1, 1, Conv, [128, 3, 2]],  # 1-P2/4\n",
            "   [-1, 3, C3, [128]],\n",
            "   [-1, 1, Conv, [256, 3, 2]],  # 3-P3/8\n",
            "   [-1, 6, C3, [256]],\n",
            "   [-1, 1, Conv, [512, 3, 2]],  # 5-P4/16\n",
            "   [-1, 9, C3, [512]],\n",
            "   [-1, 1, Conv, [1024, 3, 2]],  # 7-P5/32\n",
            "   [-1, 3, C3, [1024]],\n",
            "   [-1, 1, SPPF, [1024, 5]],  # 9\n",
            "  ]\n",
            "\n",
            "# YOLOv5 v6.0 head\n",
            "head:\n",
            "  [[-1, 1, Conv, [512, 1, 1]],\n",
            "   [-1, 1, nn.Upsample, [None, 2, 'nearest']],\n",
            "   [[-1, 6], 1, Concat, [1]],  # cat backbone P4\n",
            "   [-1, 3, C3, [512, False]],  # 13\n",
            "\n",
            "   [-1, 1, Conv, [256, 1, 1]],\n",
            "   [-1, 1, nn.Upsample, [None, 2, 'nearest']],\n",
            "   [[-1, 4], 1, Concat, [1]],  # cat backbone P3\n",
            "   [-1, 3, C3, [256, False]],  # 17 (P3/8-small)\n",
            "\n",
            "   [-1, 1, Conv, [256, 3, 2]],\n",
            "   [[-1, 14], 1, Concat, [1]],  # cat head P4\n",
            "   [-1, 3, C3, [512, False]],  # 20 (P4/16-medium)\n",
            "\n",
            "   [-1, 1, Conv, [512, 3, 2]],\n",
            "   [[-1, 10], 1, Concat, [1]],  # cat head P5\n",
            "   [-1, 3, C3, [1024, False]],  # 23 (P5/32-large)\n",
            "\n",
            "   [[17, 20, 23], 1, Detect, [nc, anchors]],  # Detect(P3, P4, P5)\n",
            "  ]\n"
          ]
        }
      ],
      "source": [
        "# model configurations\n",
        "%cat /content/yolov5/models/yolov5s.yaml"
      ]
    },
    {
      "cell_type": "code",
      "execution_count": null,
      "metadata": {
        "id": "cTJV_T0tENHZ"
      },
      "outputs": [],
      "source": [
        "#customize iPython writefile so we can write variables\n",
        "from IPython.core.magic import register_line_cell_magic\n",
        "\n",
        "@register_line_cell_magic\n",
        "def writetemplate(line, cell):\n",
        "    with open(line, 'w') as f:\n",
        "        f.write(cell.format(**globals()))"
      ]
    },
    {
      "cell_type": "code",
      "execution_count": null,
      "metadata": {
        "id": "1b0R6jzmEQ8F"
      },
      "outputs": [],
      "source": [
        "%%writetemplate /content/yolov5/models/custom_yolov5s.yaml\n",
        "\n",
        "# parameters\n",
        "nc: {num_classes}  # number of classes\n",
        "depth_multiple: 0.33  # model depth multiple\n",
        "width_multiple: 0.50  # layer channel multiple\n",
        "\n",
        "# anchors\n",
        "anchors:\n",
        "  - [10,13, 16,30, 33,23]  # P3/8\n",
        "  - [30,61, 62,45, 59,119]  # P4/16\n",
        "  - [116,90, 156,198, 373,326]  # P5/32\n",
        "\n",
        "# YOLOv5 backbone\n",
        "backbone:\n",
        "  # [from, number, module, args]\n",
        "  [[-1, 1, Focus, [64, 3]],  # 0-P1/2\n",
        "   [-1, 1, Conv, [128, 3, 2]],  # 1-P2/4\n",
        "   [-1, 3, BottleneckCSP, [128]],\n",
        "   [-1, 1, Conv, [256, 3, 2]],  # 3-P3/8\n",
        "   [-1, 9, BottleneckCSP, [256]],\n",
        "   [-1, 1, Conv, [512, 3, 2]],  # 5-P4/16\n",
        "   [-1, 9, BottleneckCSP, [512]],\n",
        "   [-1, 1, Conv, [1024, 3, 2]],  # 7-P5/32\n",
        "   [-1, 1, SPP, [1024, [5, 9, 13]]],\n",
        "   [-1, 3, BottleneckCSP, [1024, False]],  # 9\n",
        "  ]\n",
        "\n",
        "# YOLOv5 head\n",
        "head:\n",
        "  [[-1, 1, Conv, [512, 1, 1]],\n",
        "   [-1, 1, nn.Upsample, [None, 2, 'nearest']],\n",
        "   [[-1, 6], 1, Concat, [1]],  # cat backbone P4\n",
        "   [-1, 3, BottleneckCSP, [512, False]],  # 13\n",
        "\n",
        "   [-1, 1, Conv, [256, 1, 1]],\n",
        "   [-1, 1, nn.Upsample, [None, 2, 'nearest']],\n",
        "   [[-1, 4], 1, Concat, [1]],  # cat backbone P3\n",
        "   [-1, 3, BottleneckCSP, [256, False]],  # 17 (P3/8-small)\n",
        "\n",
        "   [-1, 1, Conv, [256, 3, 2]],\n",
        "   [[-1, 14], 1, Concat, [1]],  # cat head P4\n",
        "   [-1, 3, BottleneckCSP, [512, False]],  # 20 (P4/16-medium)\n",
        "\n",
        "   [-1, 1, Conv, [512, 3, 2]],\n",
        "   [[-1, 10], 1, Concat, [1]],  # cat head P5\n",
        "   [-1, 3, BottleneckCSP, [1024, False]],  # 23 (P5/32-large)\n",
        "\n",
        "   [[17, 20, 23], 1, Detect, [nc, anchors]],  # Detect(P3, P4, P5)\n",
        "  ]"
      ]
    },
    {
      "attachments": {},
      "cell_type": "markdown",
      "metadata": {
        "id": "S6MN8LiBEguo"
      },
      "source": [
        "## 2. Train"
      ]
    },
    {
      "cell_type": "code",
      "execution_count": null,
      "metadata": {
        "colab": {
          "base_uri": "https://localhost:8080/"
        },
        "id": "EF88UKcNEYVo",
        "outputId": "34781ec9-a5cb-4430-897a-f94ca144f819"
      },
      "outputs": [
        {
          "name": "stdout",
          "output_type": "stream",
          "text": [
            "/content/yolov5\n",
            "2023-04-16 08:37:22.241230: I tensorflow/core/platform/cpu_feature_guard.cc:182] This TensorFlow binary is optimized to use available CPU instructions in performance-critical operations.\n",
            "To enable the following instructions: AVX2 FMA, in other operations, rebuild TensorFlow with the appropriate compiler flags.\n",
            "2023-04-16 08:37:23.233139: W tensorflow/compiler/tf2tensorrt/utils/py_utils.cc:38] TF-TRT Warning: Could not find TensorRT\n",
            "\u001b[34m\u001b[1mtrain: \u001b[0mweights=, cfg=./models/custom_yolov5s.yaml, data=/content/yolov5/GARBAGE-CLASSIFICATION-3-2/data.yaml, hyp=data/hyps/hyp.scratch-low.yaml, epochs=30, batch_size=16, imgsz=416, rect=False, resume=False, nosave=False, noval=False, noautoanchor=False, noplots=False, evolve=None, bucket=, cache=ram, image_weights=False, device=, multi_scale=False, single_cls=False, optimizer=SGD, sync_bn=False, workers=8, project=runs/train, name=yolov5s_results, exist_ok=False, quad=False, cos_lr=False, label_smoothing=0.0, patience=100, freeze=[0], save_period=-1, seed=0, local_rank=-1, entity=None, upload_dataset=False, bbox_interval=-1, artifact_alias=latest\n",
            "\u001b[34m\u001b[1mgithub: \u001b[0m⚠️ YOLOv5 is out of date by 509 commits. Use `git pull` or `git clone https://github.com/ultralytics/yolov5` to update.\n",
            "YOLOv5 🚀 v6.1-306-gfbe67e4 Python-3.9.16 torch-2.0.0+cu118 CUDA:0 (Tesla T4, 15102MiB)\n",
            "\n",
            "\u001b[34m\u001b[1mhyperparameters: \u001b[0mlr0=0.01, lrf=0.01, momentum=0.937, weight_decay=0.0005, warmup_epochs=3.0, warmup_momentum=0.8, warmup_bias_lr=0.1, box=0.05, cls=0.5, cls_pw=1.0, obj=1.0, obj_pw=1.0, iou_t=0.2, anchor_t=4.0, fl_gamma=0.0, hsv_h=0.015, hsv_s=0.7, hsv_v=0.4, degrees=0.0, translate=0.1, scale=0.5, shear=0.0, perspective=0.0, flipud=0.0, fliplr=0.5, mosaic=1.0, mixup=0.0, copy_paste=0.0\n",
            "\u001b[34m\u001b[1mWeights & Biases: \u001b[0mrun 'pip install wandb' to automatically track and visualize YOLOv5 🚀 runs (RECOMMENDED)\n",
            "\u001b[34m\u001b[1mTensorBoard: \u001b[0mStart with 'tensorboard --logdir runs/train', view at http://localhost:6006/\n",
            "Downloading https://ultralytics.com/assets/Arial.ttf to /root/.config/Ultralytics/Arial.ttf...\n",
            "100% 755k/755k [00:00<00:00, 76.5MB/s]\n",
            "\n",
            "                 from  n    params  module                                  arguments                     \n",
            "  0                -1  1      3520  models.common.Focus                     [3, 32, 3]                    \n",
            "  1                -1  1     18560  models.common.Conv                      [32, 64, 3, 2]                \n",
            "  2                -1  1     19904  models.common.BottleneckCSP             [64, 64, 1]                   \n",
            "  3                -1  1     73984  models.common.Conv                      [64, 128, 3, 2]               \n",
            "  4                -1  3    161152  models.common.BottleneckCSP             [128, 128, 3]                 \n",
            "  5                -1  1    295424  models.common.Conv                      [128, 256, 3, 2]              \n",
            "  6                -1  3    641792  models.common.BottleneckCSP             [256, 256, 3]                 \n",
            "  7                -1  1   1180672  models.common.Conv                      [256, 512, 3, 2]              \n",
            "  8                -1  1    656896  models.common.SPP                       [512, 512, [5, 9, 13]]        \n",
            "  9                -1  1   1248768  models.common.BottleneckCSP             [512, 512, 1, False]          \n",
            " 10                -1  1    131584  models.common.Conv                      [512, 256, 1, 1]              \n",
            " 11                -1  1         0  torch.nn.modules.upsampling.Upsample    [None, 2, 'nearest']          \n",
            " 12           [-1, 6]  1         0  models.common.Concat                    [1]                           \n",
            " 13                -1  1    378624  models.common.BottleneckCSP             [512, 256, 1, False]          \n",
            " 14                -1  1     33024  models.common.Conv                      [256, 128, 1, 1]              \n",
            " 15                -1  1         0  torch.nn.modules.upsampling.Upsample    [None, 2, 'nearest']          \n",
            " 16           [-1, 4]  1         0  models.common.Concat                    [1]                           \n",
            " 17                -1  1     95104  models.common.BottleneckCSP             [256, 128, 1, False]          \n",
            " 18                -1  1    147712  models.common.Conv                      [128, 128, 3, 2]              \n",
            " 19          [-1, 14]  1         0  models.common.Concat                    [1]                           \n",
            " 20                -1  1    313088  models.common.BottleneckCSP             [256, 256, 1, False]          \n",
            " 21                -1  1    590336  models.common.Conv                      [256, 256, 3, 2]              \n",
            " 22          [-1, 10]  1         0  models.common.Concat                    [1]                           \n",
            " 23                -1  1   1248768  models.common.BottleneckCSP             [512, 512, 1, False]          \n",
            " 24      [17, 20, 23]  1     29667  models.yolo.Detect                      [6, [[10, 13, 16, 30, 33, 23], [30, 61, 62, 45, 59, 119], [116, 90, 156, 198, 373, 326]], [128, 256, 512]]\n",
            "custom_YOLOv5s summary: 283 layers, 7268579 parameters, 7268579 gradients, 17.0 GFLOPs\n",
            "\n",
            "\u001b[34m\u001b[1mAMP: \u001b[0mchecks passed ✅\n",
            "Scaled weight_decay = 0.0005\n",
            "\u001b[34m\u001b[1moptimizer:\u001b[0m SGD with parameter groups 59 weight (no decay), 70 weight, 62 bias\n",
            "\u001b[34m\u001b[1malbumentations: \u001b[0mBlur(always_apply=False, p=0.01, blur_limit=(3, 7)), MedianBlur(always_apply=False, p=0.01, blur_limit=(3, 7)), ToGray(always_apply=False, p=0.01), CLAHE(always_apply=False, p=0.01, clip_limit=(1, 4.0), tile_grid_size=(8, 8))\n",
            "\u001b[34m\u001b[1mtrain: \u001b[0mScanning '/content/yolov5/GARBAGE-CLASSIFICATION-3-2/train/labels' images and labels...7324 found, 0 missing, 0 empty, 0 corrupt: 100% 7324/7324 [00:06<00:00, 1109.63it/s]\n",
            "\u001b[34m\u001b[1mtrain: \u001b[0mNew cache created: /content/yolov5/GARBAGE-CLASSIFICATION-3-2/train/labels.cache\n",
            "\u001b[34m\u001b[1mtrain: \u001b[0mCaching images (3.8GB ram): 100% 7324/7324 [00:16<00:00, 443.47it/s]\n",
            "\u001b[34m\u001b[1mval: \u001b[0mScanning '/content/yolov5/GARBAGE-CLASSIFICATION-3-2/valid/labels' images and labels...2098 found, 0 missing, 0 empty, 0 corrupt: 100% 2098/2098 [00:01<00:00, 1075.51it/s]\n",
            "\u001b[34m\u001b[1mval: \u001b[0mNew cache created: /content/yolov5/GARBAGE-CLASSIFICATION-3-2/valid/labels.cache\n",
            "\u001b[34m\u001b[1mval: \u001b[0mCaching images (1.1GB ram): 100% 2098/2098 [00:05<00:00, 388.77it/s]\n",
            "Plotting labels to runs/train/yolov5s_results/labels.jpg... \n",
            "\n",
            "\u001b[34m\u001b[1mAutoAnchor: \u001b[0m4.82 anchors/target, 0.999 Best Possible Recall (BPR). Current anchors are a good fit to dataset ✅\n",
            "Image sizes 416 train, 416 val\n",
            "Using 2 dataloader workers\n",
            "Logging results to \u001b[1mruns/train/yolov5s_results\u001b[0m\n",
            "Starting training for 30 epochs...\n",
            "\n",
            "     Epoch   gpu_mem       box       obj       cls    labels  img_size\n",
            "      0/29      1.7G   0.09942   0.06928    0.0441       130       416: 100% 458/458 [01:34<00:00,  4.82it/s]\n",
            "               Class     Images     Labels          P          R     mAP@.5 mAP@.5:.95:  50% 33/66 [00:28<00:28,  1.17it/s]WARNING: NMS time limit 1.260s exceeded\n",
            "               Class     Images     Labels          P          R     mAP@.5 mAP@.5:.95:  52% 34/66 [00:29<00:33,  1.04s/it]WARNING: NMS time limit 1.260s exceeded\n",
            "               Class     Images     Labels          P          R     mAP@.5 mAP@.5:.95:  53% 35/66 [00:31<00:37,  1.20s/it]WARNING: NMS time limit 1.260s exceeded\n",
            "               Class     Images     Labels          P          R     mAP@.5 mAP@.5:.95:  56% 37/66 [00:34<00:39,  1.36s/it]WARNING: NMS time limit 1.260s exceeded\n",
            "               Class     Images     Labels          P          R     mAP@.5 mAP@.5:.95:  58% 38/66 [00:35<00:39,  1.39s/it]WARNING: NMS time limit 1.260s exceeded\n",
            "               Class     Images     Labels          P          R     mAP@.5 mAP@.5:.95:  59% 39/66 [00:37<00:38,  1.43s/it]WARNING: NMS time limit 1.260s exceeded\n",
            "               Class     Images     Labels          P          R     mAP@.5 mAP@.5:.95:  61% 40/66 [00:38<00:37,  1.43s/it]WARNING: NMS time limit 1.260s exceeded\n",
            "               Class     Images     Labels          P          R     mAP@.5 mAP@.5:.95:  62% 41/66 [00:40<00:36,  1.44s/it]WARNING: NMS time limit 1.260s exceeded\n",
            "               Class     Images     Labels          P          R     mAP@.5 mAP@.5:.95:  64% 42/66 [00:41<00:34,  1.45s/it]WARNING: NMS time limit 1.260s exceeded\n",
            "               Class     Images     Labels          P          R     mAP@.5 mAP@.5:.95:  65% 43/66 [00:43<00:33,  1.46s/it]WARNING: NMS time limit 1.260s exceeded\n",
            "               Class     Images     Labels          P          R     mAP@.5 mAP@.5:.95:  67% 44/66 [00:44<00:32,  1.48s/it]WARNING: NMS time limit 1.260s exceeded\n",
            "               Class     Images     Labels          P          R     mAP@.5 mAP@.5:.95:  68% 45/66 [00:46<00:31,  1.49s/it]WARNING: NMS time limit 1.260s exceeded\n",
            "               Class     Images     Labels          P          R     mAP@.5 mAP@.5:.95:  74% 49/66 [00:51<00:23,  1.40s/it]WARNING: NMS time limit 1.260s exceeded\n",
            "               Class     Images     Labels          P          R     mAP@.5 mAP@.5:.95:  77% 51/66 [00:54<00:20,  1.36s/it]WARNING: NMS time limit 1.260s exceeded\n",
            "               Class     Images     Labels          P          R     mAP@.5 mAP@.5:.95:  79% 52/66 [00:56<00:19,  1.40s/it]WARNING: NMS time limit 1.260s exceeded\n",
            "               Class     Images     Labels          P          R     mAP@.5 mAP@.5:.95:  80% 53/66 [00:57<00:18,  1.43s/it]WARNING: NMS time limit 1.260s exceeded\n",
            "               Class     Images     Labels          P          R     mAP@.5 mAP@.5:.95:  82% 54/66 [00:59<00:17,  1.44s/it]WARNING: NMS time limit 1.260s exceeded\n",
            "               Class     Images     Labels          P          R     mAP@.5 mAP@.5:.95:  94% 62/66 [01:09<00:05,  1.26s/it]WARNING: NMS time limit 1.260s exceeded\n",
            "               Class     Images     Labels          P          R     mAP@.5 mAP@.5:.95:  95% 63/66 [01:10<00:03,  1.31s/it]WARNING: NMS time limit 1.260s exceeded\n",
            "               Class     Images     Labels          P          R     mAP@.5 mAP@.5:.95:  97% 64/66 [01:11<00:02,  1.35s/it]WARNING: NMS time limit 1.260s exceeded\n",
            "               Class     Images     Labels          P          R     mAP@.5 mAP@.5:.95:  98% 65/66 [01:13<00:01,  1.38s/it]WARNING: NMS time limit 0.840s exceeded\n",
            "               Class     Images     Labels          P          R     mAP@.5 mAP@.5:.95: 100% 66/66 [01:14<00:00,  1.13s/it]\n",
            "                 all       2098      18916    0.00448     0.0138    0.00213   0.000503\n",
            "\n",
            "     Epoch   gpu_mem       box       obj       cls    labels  img_size\n",
            "      1/29     1.86G   0.09209   0.06901   0.03668        72       416: 100% 458/458 [01:23<00:00,  5.48it/s]\n",
            "               Class     Images     Labels          P          R     mAP@.5 mAP@.5:.95:   0% 0/66 [00:00<?, ?it/s]WARNING: NMS time limit 1.260s exceeded\n",
            "               Class     Images     Labels          P          R     mAP@.5 mAP@.5:.95:   2% 1/66 [00:01<01:37,  1.50s/it]WARNING: NMS time limit 1.260s exceeded\n",
            "               Class     Images     Labels          P          R     mAP@.5 mAP@.5:.95:  24% 16/66 [00:15<00:41,  1.20it/s]WARNING: NMS time limit 1.260s exceeded\n",
            "               Class     Images     Labels          P          R     mAP@.5 mAP@.5:.95:  26% 17/66 [00:17<00:50,  1.02s/it]WARNING: NMS time limit 1.260s exceeded\n",
            "               Class     Images     Labels          P          R     mAP@.5 mAP@.5:.95:  50% 33/66 [00:33<00:34,  1.04s/it]WARNING: NMS time limit 1.260s exceeded\n",
            "               Class     Images     Labels          P          R     mAP@.5 mAP@.5:.95:  52% 34/66 [00:34<00:37,  1.18s/it]WARNING: NMS time limit 1.260s exceeded\n",
            "               Class     Images     Labels          P          R     mAP@.5 mAP@.5:.95:  53% 35/66 [00:36<00:38,  1.25s/it]WARNING: NMS time limit 1.260s exceeded\n",
            "               Class     Images     Labels          P          R     mAP@.5 mAP@.5:.95:  55% 36/66 [00:37<00:39,  1.32s/it]WARNING: NMS time limit 1.260s exceeded\n",
            "               Class     Images     Labels          P          R     mAP@.5 mAP@.5:.95:  56% 37/66 [00:39<00:39,  1.37s/it]WARNING: NMS time limit 1.260s exceeded\n",
            "               Class     Images     Labels          P          R     mAP@.5 mAP@.5:.95:  58% 38/66 [00:40<00:39,  1.41s/it]WARNING: NMS time limit 1.260s exceeded\n",
            "               Class     Images     Labels          P          R     mAP@.5 mAP@.5:.95:  59% 39/66 [00:42<00:38,  1.44s/it]WARNING: NMS time limit 1.260s exceeded\n",
            "               Class     Images     Labels          P          R     mAP@.5 mAP@.5:.95:  61% 40/66 [00:43<00:38,  1.47s/it]WARNING: NMS time limit 1.260s exceeded\n",
            "               Class     Images     Labels          P          R     mAP@.5 mAP@.5:.95:  62% 41/66 [00:45<00:37,  1.49s/it]WARNING: NMS time limit 1.260s exceeded\n",
            "               Class     Images     Labels          P          R     mAP@.5 mAP@.5:.95:  64% 42/66 [00:46<00:35,  1.49s/it]WARNING: NMS time limit 1.260s exceeded\n",
            "               Class     Images     Labels          P          R     mAP@.5 mAP@.5:.95:  65% 43/66 [00:48<00:34,  1.49s/it]WARNING: NMS time limit 1.260s exceeded\n",
            "               Class     Images     Labels          P          R     mAP@.5 mAP@.5:.95:  67% 44/66 [00:49<00:32,  1.50s/it]WARNING: NMS time limit 1.260s exceeded\n",
            "               Class     Images     Labels          P          R     mAP@.5 mAP@.5:.95:  68% 45/66 [00:51<00:31,  1.49s/it]WARNING: NMS time limit 1.260s exceeded\n",
            "               Class     Images     Labels          P          R     mAP@.5 mAP@.5:.95:  70% 46/66 [00:52<00:29,  1.47s/it]WARNING: NMS time limit 1.260s exceeded\n",
            "               Class     Images     Labels          P          R     mAP@.5 mAP@.5:.95:  71% 47/66 [00:54<00:28,  1.47s/it]WARNING: NMS time limit 1.260s exceeded\n",
            "               Class     Images     Labels          P          R     mAP@.5 mAP@.5:.95:  73% 48/66 [00:55<00:26,  1.49s/it]WARNING: NMS time limit 1.260s exceeded\n",
            "               Class     Images     Labels          P          R     mAP@.5 mAP@.5:.95:  88% 58/66 [01:05<00:07,  1.08it/s]WARNING: NMS time limit 1.260s exceeded\n",
            "               Class     Images     Labels          P          R     mAP@.5 mAP@.5:.95: 100% 66/66 [01:13<00:00,  1.12s/it]\n",
            "                 all       2098      18916       0.68     0.0306    0.00836    0.00196\n",
            "\n",
            "     Epoch   gpu_mem       box       obj       cls    labels  img_size\n",
            "      2/29     1.86G   0.08295   0.07202   0.03374        66       416: 100% 458/458 [01:23<00:00,  5.49it/s]\n",
            "               Class     Images     Labels          P          R     mAP@.5 mAP@.5:.95:  50% 33/66 [00:19<00:26,  1.26it/s]WARNING: NMS time limit 1.260s exceeded\n",
            "               Class     Images     Labels          P          R     mAP@.5 mAP@.5:.95:  52% 34/66 [00:20<00:32,  1.01s/it]WARNING: NMS time limit 1.260s exceeded\n",
            "               Class     Images     Labels          P          R     mAP@.5 mAP@.5:.95:  55% 36/66 [00:23<00:36,  1.21s/it]WARNING: NMS time limit 1.260s exceeded\n",
            "               Class     Images     Labels          P          R     mAP@.5 mAP@.5:.95:  56% 37/66 [00:25<00:37,  1.30s/it]WARNING: NMS time limit 1.260s exceeded\n",
            "               Class     Images     Labels          P          R     mAP@.5 mAP@.5:.95:  58% 38/66 [00:26<00:37,  1.35s/it]WARNING: NMS time limit 1.260s exceeded\n",
            "               Class     Images     Labels          P          R     mAP@.5 mAP@.5:.95:  61% 40/66 [00:29<00:37,  1.43s/it]WARNING: NMS time limit 1.260s exceeded\n",
            "               Class     Images     Labels          P          R     mAP@.5 mAP@.5:.95:  64% 42/66 [00:32<00:34,  1.43s/it]WARNING: NMS time limit 1.260s exceeded\n",
            "               Class     Images     Labels          P          R     mAP@.5 mAP@.5:.95:  65% 43/66 [00:34<00:33,  1.44s/it]WARNING: NMS time limit 1.260s exceeded\n",
            "               Class     Images     Labels          P          R     mAP@.5 mAP@.5:.95:  67% 44/66 [00:35<00:32,  1.47s/it]WARNING: NMS time limit 1.260s exceeded\n",
            "               Class     Images     Labels          P          R     mAP@.5 mAP@.5:.95:  68% 45/66 [00:36<00:30,  1.46s/it]WARNING: NMS time limit 1.260s exceeded\n",
            "               Class     Images     Labels          P          R     mAP@.5 mAP@.5:.95:  70% 46/66 [00:38<00:29,  1.46s/it]WARNING: NMS time limit 1.260s exceeded\n",
            "               Class     Images     Labels          P          R     mAP@.5 mAP@.5:.95:  71% 47/66 [00:39<00:28,  1.49s/it]WARNING: NMS time limit 1.260s exceeded\n",
            "               Class     Images     Labels          P          R     mAP@.5 mAP@.5:.95:  73% 48/66 [00:41<00:26,  1.50s/it]WARNING: NMS time limit 1.260s exceeded\n",
            "               Class     Images     Labels          P          R     mAP@.5 mAP@.5:.95: 100% 66/66 [00:54<00:00,  1.22it/s]\n",
            "                 all       2098      18916     0.0583     0.0941       0.03    0.00848\n",
            "\n",
            "     Epoch   gpu_mem       box       obj       cls    labels  img_size\n",
            "      3/29     1.86G   0.07405   0.06878   0.03273       118       416: 100% 458/458 [01:23<00:00,  5.48it/s]\n",
            "               Class     Images     Labels          P          R     mAP@.5 mAP@.5:.95:  56% 37/66 [00:15<00:25,  1.14it/s]WARNING: NMS time limit 1.260s exceeded\n",
            "               Class     Images     Labels          P          R     mAP@.5 mAP@.5:.95:  58% 38/66 [00:17<00:29,  1.05s/it]WARNING: NMS time limit 1.260s exceeded\n",
            "               Class     Images     Labels          P          R     mAP@.5 mAP@.5:.95: 100% 66/66 [00:35<00:00,  1.84it/s]\n",
            "                 all       2098      18916      0.102      0.151      0.073      0.025\n",
            "\n",
            "     Epoch   gpu_mem       box       obj       cls    labels  img_size\n",
            "      4/29     1.86G   0.06854   0.06727   0.03087       127       416: 100% 458/458 [01:22<00:00,  5.54it/s]\n",
            "               Class     Images     Labels          P          R     mAP@.5 mAP@.5:.95: 100% 66/66 [00:24<00:00,  2.72it/s]\n",
            "                 all       2098      18916      0.183      0.195      0.139     0.0583\n",
            "\n",
            "     Epoch   gpu_mem       box       obj       cls    labels  img_size\n",
            "      5/29     1.86G   0.06596   0.06633   0.02911       233       416: 100% 458/458 [01:23<00:00,  5.52it/s]\n",
            "               Class     Images     Labels          P          R     mAP@.5 mAP@.5:.95: 100% 66/66 [00:24<00:00,  2.70it/s]\n",
            "                 all       2098      18916      0.202      0.243      0.154     0.0662\n",
            "\n",
            "     Epoch   gpu_mem       box       obj       cls    labels  img_size\n",
            "      6/29     1.86G   0.06414   0.06602   0.02706       138       416: 100% 458/458 [01:25<00:00,  5.38it/s]\n",
            "               Class     Images     Labels          P          R     mAP@.5 mAP@.5:.95: 100% 66/66 [00:23<00:00,  2.85it/s]\n",
            "                 all       2098      18916      0.266      0.234      0.195     0.0888\n",
            "\n",
            "     Epoch   gpu_mem       box       obj       cls    labels  img_size\n",
            "      7/29     1.86G   0.06216   0.06361   0.02727       156       416: 100% 458/458 [01:22<00:00,  5.54it/s]\n",
            "               Class     Images     Labels          P          R     mAP@.5 mAP@.5:.95: 100% 66/66 [00:20<00:00,  3.23it/s]\n",
            "                 all       2098      18916      0.258      0.236      0.202     0.0943\n",
            "\n",
            "     Epoch   gpu_mem       box       obj       cls    labels  img_size\n",
            "      8/29     1.86G   0.06077     0.063    0.0272        71       416: 100% 458/458 [01:21<00:00,  5.63it/s]\n",
            "               Class     Images     Labels          P          R     mAP@.5 mAP@.5:.95: 100% 66/66 [00:19<00:00,  3.33it/s]\n",
            "                 all       2098      18916      0.278       0.25      0.219       0.11\n",
            "\n",
            "     Epoch   gpu_mem       box       obj       cls    labels  img_size\n",
            "      9/29     1.86G   0.06015   0.06215   0.02511       162       416: 100% 458/458 [01:22<00:00,  5.58it/s]\n",
            "               Class     Images     Labels          P          R     mAP@.5 mAP@.5:.95: 100% 66/66 [00:22<00:00,  2.89it/s]\n",
            "                 all       2098      18916       0.29      0.271      0.224      0.108\n",
            "\n",
            "     Epoch   gpu_mem       box       obj       cls    labels  img_size\n",
            "     10/29     1.86G   0.05945   0.06309   0.02482       143       416: 100% 458/458 [01:22<00:00,  5.57it/s]\n",
            "               Class     Images     Labels          P          R     mAP@.5 mAP@.5:.95: 100% 66/66 [00:20<00:00,  3.23it/s]\n",
            "                 all       2098      18916      0.268      0.252      0.218      0.113\n",
            "\n",
            "     Epoch   gpu_mem       box       obj       cls    labels  img_size\n",
            "     11/29     1.86G   0.05888   0.06301   0.02449        76       416: 100% 458/458 [01:22<00:00,  5.56it/s]\n",
            "               Class     Images     Labels          P          R     mAP@.5 mAP@.5:.95: 100% 66/66 [00:27<00:00,  2.44it/s]\n",
            "                 all       2098      18916      0.355      0.283      0.257      0.127\n",
            "\n",
            "     Epoch   gpu_mem       box       obj       cls    labels  img_size\n",
            "     12/29     1.86G   0.05839   0.06209   0.02367       145       416: 100% 458/458 [01:24<00:00,  5.44it/s]\n",
            "               Class     Images     Labels          P          R     mAP@.5 mAP@.5:.95: 100% 66/66 [00:19<00:00,  3.40it/s]\n",
            "                 all       2098      18916      0.316      0.289      0.252      0.131\n",
            "\n",
            "     Epoch   gpu_mem       box       obj       cls    labels  img_size\n",
            "     13/29     1.86G    0.0577   0.05984   0.02335       125       416: 100% 458/458 [01:23<00:00,  5.47it/s]\n",
            "               Class     Images     Labels          P          R     mAP@.5 mAP@.5:.95: 100% 66/66 [00:18<00:00,  3.55it/s]\n",
            "                 all       2098      18916      0.395      0.281      0.277      0.149\n",
            "\n",
            "     Epoch   gpu_mem       box       obj       cls    labels  img_size\n",
            "     14/29     1.86G   0.05798    0.0628   0.02249       124       416: 100% 458/458 [01:25<00:00,  5.38it/s]\n",
            "               Class     Images     Labels          P          R     mAP@.5 mAP@.5:.95: 100% 66/66 [00:20<00:00,  3.16it/s]\n",
            "                 all       2098      18916      0.361      0.269      0.273      0.145\n",
            "\n",
            "     Epoch   gpu_mem       box       obj       cls    labels  img_size\n",
            "     15/29     1.86G   0.05726   0.06078   0.02299       181       416: 100% 458/458 [01:22<00:00,  5.54it/s]\n",
            "               Class     Images     Labels          P          R     mAP@.5 mAP@.5:.95: 100% 66/66 [00:20<00:00,  3.25it/s]\n",
            "                 all       2098      18916       0.39      0.278      0.295      0.158\n",
            "\n",
            "     Epoch   gpu_mem       box       obj       cls    labels  img_size\n",
            "     16/29     1.86G   0.05689   0.06028   0.02242        76       416: 100% 458/458 [01:21<00:00,  5.59it/s]\n",
            "               Class     Images     Labels          P          R     mAP@.5 mAP@.5:.95: 100% 66/66 [00:21<00:00,  3.06it/s]\n",
            "                 all       2098      18916      0.401      0.287      0.294      0.155\n",
            "\n",
            "     Epoch   gpu_mem       box       obj       cls    labels  img_size\n",
            "     17/29     1.86G   0.05626   0.06001    0.0215       131       416: 100% 458/458 [01:20<00:00,  5.66it/s]\n",
            "               Class     Images     Labels          P          R     mAP@.5 mAP@.5:.95: 100% 66/66 [00:21<00:00,  3.02it/s]\n",
            "                 all       2098      18916      0.401      0.299      0.301       0.16\n",
            "\n",
            "     Epoch   gpu_mem       box       obj       cls    labels  img_size\n",
            "     18/29     1.86G   0.05609   0.06007   0.02045       191       416: 100% 458/458 [01:22<00:00,  5.55it/s]\n",
            "               Class     Images     Labels          P          R     mAP@.5 mAP@.5:.95: 100% 66/66 [00:20<00:00,  3.16it/s]\n",
            "                 all       2098      18916      0.402      0.325      0.319       0.17\n",
            "\n",
            "     Epoch   gpu_mem       box       obj       cls    labels  img_size\n",
            "     19/29     1.86G   0.05551   0.05954   0.02082       100       416: 100% 458/458 [01:22<00:00,  5.55it/s]\n",
            "               Class     Images     Labels          P          R     mAP@.5 mAP@.5:.95: 100% 66/66 [00:20<00:00,  3.19it/s]\n",
            "                 all       2098      18916      0.408      0.316      0.313      0.171\n",
            "\n",
            "     Epoch   gpu_mem       box       obj       cls    labels  img_size\n",
            "     20/29     1.86G   0.05533   0.05963   0.02012        91       416: 100% 458/458 [01:23<00:00,  5.50it/s]\n",
            "               Class     Images     Labels          P          R     mAP@.5 mAP@.5:.95: 100% 66/66 [00:22<00:00,  2.97it/s]\n",
            "                 all       2098      18916      0.412      0.324       0.32      0.171\n",
            "\n",
            "     Epoch   gpu_mem       box       obj       cls    labels  img_size\n",
            "     21/29     1.86G   0.05486   0.05853   0.02017        69       416: 100% 458/458 [01:24<00:00,  5.44it/s]\n",
            "               Class     Images     Labels          P          R     mAP@.5 mAP@.5:.95: 100% 66/66 [00:19<00:00,  3.40it/s]\n",
            "                 all       2098      18916      0.448      0.309      0.325      0.176\n",
            "\n",
            "     Epoch   gpu_mem       box       obj       cls    labels  img_size\n",
            "     22/29     1.86G   0.05492   0.06008   0.01938       336       416: 100% 458/458 [01:25<00:00,  5.38it/s]\n",
            "               Class     Images     Labels          P          R     mAP@.5 mAP@.5:.95: 100% 66/66 [00:19<00:00,  3.39it/s]\n",
            "                 all       2098      18916      0.427      0.325      0.325      0.176\n",
            "\n",
            "     Epoch   gpu_mem       box       obj       cls    labels  img_size\n",
            "     23/29     1.86G   0.05426   0.05804   0.01858       103       416: 100% 458/458 [01:23<00:00,  5.49it/s]\n",
            "               Class     Images     Labels          P          R     mAP@.5 mAP@.5:.95: 100% 66/66 [00:19<00:00,  3.38it/s]\n",
            "                 all       2098      18916      0.447      0.332      0.335      0.185\n",
            "\n",
            "     Epoch   gpu_mem       box       obj       cls    labels  img_size\n",
            "     24/29     1.86G    0.0544   0.05879   0.01845       119       416: 100% 458/458 [01:24<00:00,  5.44it/s]\n",
            "               Class     Images     Labels          P          R     mAP@.5 mAP@.5:.95: 100% 66/66 [00:19<00:00,  3.44it/s]\n",
            "                 all       2098      18916      0.462      0.334      0.343      0.188\n",
            "\n",
            "     Epoch   gpu_mem       box       obj       cls    labels  img_size\n",
            "     25/29     1.86G    0.0544   0.05896   0.01892        78       416: 100% 458/458 [01:24<00:00,  5.43it/s]\n",
            "               Class     Images     Labels          P          R     mAP@.5 mAP@.5:.95: 100% 66/66 [00:19<00:00,  3.30it/s]\n",
            "                 all       2098      18916       0.42       0.35      0.347       0.19\n",
            "\n",
            "     Epoch   gpu_mem       box       obj       cls    labels  img_size\n",
            "     26/29     1.86G   0.05458   0.05954   0.01751        60       416: 100% 458/458 [01:25<00:00,  5.34it/s]\n",
            "               Class     Images     Labels          P          R     mAP@.5 mAP@.5:.95: 100% 66/66 [00:20<00:00,  3.27it/s]\n",
            "                 all       2098      18916      0.451       0.33      0.347      0.191\n",
            "\n",
            "     Epoch   gpu_mem       box       obj       cls    labels  img_size\n",
            "     27/29     1.86G   0.05273   0.05691    0.0175        60       416: 100% 458/458 [01:22<00:00,  5.53it/s]\n",
            "               Class     Images     Labels          P          R     mAP@.5 mAP@.5:.95: 100% 66/66 [00:19<00:00,  3.46it/s]\n",
            "                 all       2098      18916       0.48       0.33      0.355      0.196\n",
            "\n",
            "     Epoch   gpu_mem       box       obj       cls    labels  img_size\n",
            "     28/29     1.86G   0.05302   0.05776   0.01754       155       416: 100% 458/458 [01:24<00:00,  5.45it/s]\n",
            "               Class     Images     Labels          P          R     mAP@.5 mAP@.5:.95: 100% 66/66 [00:19<00:00,  3.39it/s]\n",
            "                 all       2098      18916      0.475      0.348      0.367      0.202\n",
            "\n",
            "     Epoch   gpu_mem       box       obj       cls    labels  img_size\n",
            "     29/29     1.86G   0.05268   0.05702   0.01737       104       416: 100% 458/458 [01:23<00:00,  5.47it/s]\n",
            "               Class     Images     Labels          P          R     mAP@.5 mAP@.5:.95: 100% 66/66 [00:19<00:00,  3.47it/s]\n",
            "                 all       2098      18916      0.504      0.343      0.378      0.213\n",
            "\n",
            "30 epochs completed in 0.923 hours.\n",
            "Optimizer stripped from runs/train/yolov5s_results/weights/last.pt, 14.8MB\n",
            "Optimizer stripped from runs/train/yolov5s_results/weights/best.pt, 14.8MB\n",
            "\n",
            "Validating runs/train/yolov5s_results/weights/best.pt...\n",
            "Fusing layers... \n",
            "custom_YOLOv5s summary: 232 layers, 7260003 parameters, 0 gradients, 16.8 GFLOPs\n",
            "               Class     Images     Labels          P          R     mAP@.5 mAP@.5:.95: 100% 66/66 [00:28<00:00,  2.28it/s]\n",
            "                 all       2098      18916      0.504      0.343      0.379      0.213\n",
            "       BIODEGRADABLE       2098      13637      0.699      0.435      0.526      0.265\n",
            "           CARDBOARD       2098       1292      0.698      0.386      0.487      0.286\n",
            "               GLASS       2098       2380      0.826      0.491      0.641      0.401\n",
            "               METAL       2098       1360      0.502      0.418      0.417      0.226\n",
            "               PAPER       2098         33     0.0223     0.0606     0.0263     0.0192\n",
            "             PLASTIC       2098        214      0.277      0.266      0.173     0.0805\n",
            "Results saved to \u001b[1mruns/train/yolov5s_results\u001b[0m\n",
            "CPU times: user 37 s, sys: 4.27 s, total: 41.2 s\n",
            "Wall time: 56min 51s\n"
          ]
        }
      ],
      "source": [
        "# train yolov5s on custom data for 30 epochs\n",
        "%%time\n",
        "%cd /content/yolov5/\n",
        "!python train.py --img 416 --batch 16 --epochs 30 --data {dataset.location}/data.yaml --cfg ./models/custom_yolov5s.yaml --weights '' --name yolov5s_results  --cache"
      ]
    },
    {
      "attachments": {},
      "cell_type": "markdown",
      "metadata": {
        "id": "yAc0JJUSvW8k"
      },
      "source": [
        "## Evaluation of the model"
      ]
    },
    {
      "cell_type": "code",
      "execution_count": null,
      "metadata": {
        "colab": {
          "base_uri": "https://localhost:8080/",
          "height": 34
        },
        "id": "zv5eVRQNEgG-",
        "outputId": "51468ab8-094b-4edf-96f8-d2cf9dcd3679"
      },
      "outputs": [
        {
          "data": {
            "text/plain": [
              "Launching TensorBoard..."
            ]
          },
          "metadata": {},
          "output_type": "display_data"
        }
      ],
      "source": [
        "# Start tensorboard\n",
        "# Launch after you have started training\n",
        "# logs save in the folder \"runs\"\n",
        "%load_ext tensorboard\n",
        "%tensorboard --logdir runs"
      ]
    },
    {
      "cell_type": "code",
      "execution_count": null,
      "metadata": {
        "id": "XCUrb_4FwlRT"
      },
      "outputs": [],
      "source": [
        "# Visualize training data with labels, just out of curiosity\n",
        "# first, display our ground truth data\n",
        "print(\"GROUND TRUTH TRAINING DATA:\")\n",
        "Image(filename='/content/yolov5/runs/train/yolov5s_results/test_batch0_labels.jpg', width=900)"
      ]
    },
    {
      "cell_type": "code",
      "execution_count": null,
      "metadata": {
        "id": "UJCrpHNTwwUr"
      },
      "outputs": [],
      "source": [
        "# print out an augmented training example\n",
        "print(\"GROUND TRUTH AUGMENTED TRAINING DATA:\")\n",
        "Image(filename='/content/yolov5/runs/train/yolov5s_results/train_batch0.jpg', width=900)"
      ]
    },
    {
      "cell_type": "markdown",
      "metadata": {
        "id": "aVACAmc8xbqX"
      },
      "source": [
        "## Export trained weights for future inference"
      ]
    },
    {
      "cell_type": "code",
      "execution_count": null,
      "metadata": {
        "id": "MlTi3AVXxd9V"
      },
      "outputs": [],
      "source": [
        "%cp /content/yolov5/runs/train/yolov5s_results/weights/best.pt /content/drive/MyDrive/recycle_app/weights"
      ]
    }
  ],
  "metadata": {
    "accelerator": "GPU",
    "colab": {
      "provenance": []
    },
    "gpuClass": "standard",
    "kernelspec": {
      "display_name": "Python 3",
      "name": "python3"
    },
    "language_info": {
      "name": "python"
    }
  },
  "nbformat": 4,
  "nbformat_minor": 0
}
